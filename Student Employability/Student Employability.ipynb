{
 "cells": [
  {
   "cell_type": "markdown",
   "metadata": {},
   "source": [
    "# Student Employability"
   ]
  },
  {
   "cell_type": "markdown",
   "metadata": {},
   "source": [
    "##### Questions we would like to answer using this dataset\n",
    "1. Is continuos improvement in a student's academic performance important for placement?\n",
    "2. What role does Communication skill play in placement?\n",
    "3. Which stream students are more likely to be coming from?\n",
    "4. How about a student's performance in a competitive entrance test?\n",
    "5. Does prior work experience has any bearing on campus placement outcome?"
   ]
  },
  {
   "cell_type": "markdown",
   "metadata": {},
   "source": [
    "### 1. Loading Data & quick view"
   ]
  },
  {
   "cell_type": "code",
   "execution_count": 325,
   "metadata": {},
   "outputs": [],
   "source": [
    "# importing required libraries\n",
    "import pandas as pd\n",
    "import numpy as np\n",
    "import matplotlib.pyplot as plt"
   ]
  },
  {
   "cell_type": "code",
   "execution_count": 326,
   "metadata": {},
   "outputs": [],
   "source": [
    "students = pd.read_csv('student.csv')"
   ]
  },
  {
   "cell_type": "code",
   "execution_count": 327,
   "metadata": {},
   "outputs": [
    {
     "data": {
      "text/html": [
       "<div>\n",
       "<style scoped>\n",
       "    .dataframe tbody tr th:only-of-type {\n",
       "        vertical-align: middle;\n",
       "    }\n",
       "\n",
       "    .dataframe tbody tr th {\n",
       "        vertical-align: top;\n",
       "    }\n",
       "\n",
       "    .dataframe thead th {\n",
       "        text-align: right;\n",
       "    }\n",
       "</style>\n",
       "<table border=\"1\" class=\"dataframe\">\n",
       "  <thead>\n",
       "    <tr style=\"text-align: right;\">\n",
       "      <th></th>\n",
       "      <th>ID</th>\n",
       "      <th>Gender</th>\n",
       "      <th>Gender-B</th>\n",
       "      <th>Percent_SSC</th>\n",
       "      <th>Board_SSC</th>\n",
       "      <th>Board_CBSE</th>\n",
       "      <th>Board_ICSE</th>\n",
       "      <th>Percent_HSC</th>\n",
       "      <th>Board_HSC</th>\n",
       "      <th>Stream_HSC</th>\n",
       "      <th>...</th>\n",
       "      <th>S-TEST</th>\n",
       "      <th>Percentile_ET</th>\n",
       "      <th>Percent_MBA</th>\n",
       "      <th>S-TEST_SCORE</th>\n",
       "      <th>Specialization_MBA</th>\n",
       "      <th>Marks_Communication</th>\n",
       "      <th>Marks_Projectwork</th>\n",
       "      <th>Marks_BOCA</th>\n",
       "      <th>Placement</th>\n",
       "      <th>Salary</th>\n",
       "    </tr>\n",
       "  </thead>\n",
       "  <tbody>\n",
       "    <tr>\n",
       "      <th>0</th>\n",
       "      <td>1</td>\n",
       "      <td>M</td>\n",
       "      <td>0</td>\n",
       "      <td>68.40</td>\n",
       "      <td>ICSE</td>\n",
       "      <td>0</td>\n",
       "      <td>1</td>\n",
       "      <td>85.6</td>\n",
       "      <td>ISC</td>\n",
       "      <td>Commerce</td>\n",
       "      <td>...</td>\n",
       "      <td>1</td>\n",
       "      <td>70.00</td>\n",
       "      <td>63.26</td>\n",
       "      <td>70.00</td>\n",
       "      <td>Marketing &amp; Finance</td>\n",
       "      <td>75</td>\n",
       "      <td>72</td>\n",
       "      <td>57</td>\n",
       "      <td>1</td>\n",
       "      <td>280000</td>\n",
       "    </tr>\n",
       "    <tr>\n",
       "      <th>1</th>\n",
       "      <td>2</td>\n",
       "      <td>M</td>\n",
       "      <td>0</td>\n",
       "      <td>59.00</td>\n",
       "      <td>CBSE</td>\n",
       "      <td>1</td>\n",
       "      <td>0</td>\n",
       "      <td>62.0</td>\n",
       "      <td>CBSE</td>\n",
       "      <td>Commerce</td>\n",
       "      <td>...</td>\n",
       "      <td>1</td>\n",
       "      <td>79.00</td>\n",
       "      <td>56.51</td>\n",
       "      <td>79.00</td>\n",
       "      <td>Marketing &amp; Finance</td>\n",
       "      <td>58</td>\n",
       "      <td>61</td>\n",
       "      <td>50</td>\n",
       "      <td>1</td>\n",
       "      <td>400000</td>\n",
       "    </tr>\n",
       "    <tr>\n",
       "      <th>2</th>\n",
       "      <td>4</td>\n",
       "      <td>M</td>\n",
       "      <td>0</td>\n",
       "      <td>65.92</td>\n",
       "      <td>Others</td>\n",
       "      <td>0</td>\n",
       "      <td>0</td>\n",
       "      <td>86.0</td>\n",
       "      <td>Others</td>\n",
       "      <td>Commerce</td>\n",
       "      <td>...</td>\n",
       "      <td>1</td>\n",
       "      <td>66.00</td>\n",
       "      <td>66.22</td>\n",
       "      <td>66.00</td>\n",
       "      <td>Marketing &amp; Finance</td>\n",
       "      <td>80</td>\n",
       "      <td>63</td>\n",
       "      <td>55</td>\n",
       "      <td>1</td>\n",
       "      <td>350000</td>\n",
       "    </tr>\n",
       "    <tr>\n",
       "      <th>3</th>\n",
       "      <td>5</td>\n",
       "      <td>F</td>\n",
       "      <td>1</td>\n",
       "      <td>56.00</td>\n",
       "      <td>ICSE</td>\n",
       "      <td>0</td>\n",
       "      <td>1</td>\n",
       "      <td>78.0</td>\n",
       "      <td>ISC</td>\n",
       "      <td>Commerce</td>\n",
       "      <td>...</td>\n",
       "      <td>1</td>\n",
       "      <td>50.89</td>\n",
       "      <td>62.21</td>\n",
       "      <td>50.89</td>\n",
       "      <td>Marketing &amp; HR</td>\n",
       "      <td>57</td>\n",
       "      <td>70</td>\n",
       "      <td>60</td>\n",
       "      <td>1</td>\n",
       "      <td>278000</td>\n",
       "    </tr>\n",
       "    <tr>\n",
       "      <th>4</th>\n",
       "      <td>8</td>\n",
       "      <td>M</td>\n",
       "      <td>0</td>\n",
       "      <td>62.60</td>\n",
       "      <td>Others</td>\n",
       "      <td>0</td>\n",
       "      <td>0</td>\n",
       "      <td>50.6</td>\n",
       "      <td>Others</td>\n",
       "      <td>Commerce</td>\n",
       "      <td>...</td>\n",
       "      <td>1</td>\n",
       "      <td>34.53</td>\n",
       "      <td>58.63</td>\n",
       "      <td>34.53</td>\n",
       "      <td>Marketing &amp; HR</td>\n",
       "      <td>62</td>\n",
       "      <td>57</td>\n",
       "      <td>56</td>\n",
       "      <td>1</td>\n",
       "      <td>162000</td>\n",
       "    </tr>\n",
       "  </tbody>\n",
       "</table>\n",
       "<p>5 rows × 25 columns</p>\n",
       "</div>"
      ],
      "text/plain": [
       "   ID Gender  Gender-B  Percent_SSC Board_SSC  Board_CBSE  Board_ICSE  \\\n",
       "0   1      M         0        68.40      ICSE           0           1   \n",
       "1   2      M         0        59.00      CBSE           1           0   \n",
       "2   4      M         0        65.92    Others           0           0   \n",
       "3   5      F         1        56.00      ICSE           0           1   \n",
       "4   8      M         0        62.60    Others           0           0   \n",
       "\n",
       "   Percent_HSC Board_HSC Stream_HSC  ...  S-TEST Percentile_ET  Percent_MBA  \\\n",
       "0         85.6       ISC   Commerce  ...       1         70.00        63.26   \n",
       "1         62.0      CBSE   Commerce  ...       1         79.00        56.51   \n",
       "2         86.0    Others   Commerce  ...       1         66.00        66.22   \n",
       "3         78.0       ISC   Commerce  ...       1         50.89        62.21   \n",
       "4         50.6    Others   Commerce  ...       1         34.53        58.63   \n",
       "\n",
       "   S-TEST_SCORE   Specialization_MBA  Marks_Communication  Marks_Projectwork  \\\n",
       "0         70.00  Marketing & Finance                   75                 72   \n",
       "1         79.00  Marketing & Finance                   58                 61   \n",
       "2         66.00  Marketing & Finance                   80                 63   \n",
       "3         50.89       Marketing & HR                   57                 70   \n",
       "4         34.53       Marketing & HR                   62                 57   \n",
       "\n",
       "   Marks_BOCA  Placement  Salary  \n",
       "0          57          1  280000  \n",
       "1          50          1  400000  \n",
       "2          55          1  350000  \n",
       "3          60          1  278000  \n",
       "4          56          1  162000  \n",
       "\n",
       "[5 rows x 25 columns]"
      ]
     },
     "execution_count": 327,
     "metadata": {},
     "output_type": "execute_result"
    }
   ],
   "source": [
    "# A quick glimpse at first few rows\n",
    "students.head()"
   ]
  },
  {
   "cell_type": "code",
   "execution_count": 328,
   "metadata": {},
   "outputs": [
    {
     "data": {
      "text/html": [
       "<div>\n",
       "<style scoped>\n",
       "    .dataframe tbody tr th:only-of-type {\n",
       "        vertical-align: middle;\n",
       "    }\n",
       "\n",
       "    .dataframe tbody tr th {\n",
       "        vertical-align: top;\n",
       "    }\n",
       "\n",
       "    .dataframe thead th {\n",
       "        text-align: right;\n",
       "    }\n",
       "</style>\n",
       "<table border=\"1\" class=\"dataframe\">\n",
       "  <thead>\n",
       "    <tr style=\"text-align: right;\">\n",
       "      <th></th>\n",
       "      <th>ID</th>\n",
       "      <th>Gender</th>\n",
       "      <th>Gender-B</th>\n",
       "      <th>Percent_SSC</th>\n",
       "      <th>Board_SSC</th>\n",
       "      <th>Board_CBSE</th>\n",
       "      <th>Board_ICSE</th>\n",
       "      <th>Percent_HSC</th>\n",
       "      <th>Board_HSC</th>\n",
       "      <th>Stream_HSC</th>\n",
       "      <th>...</th>\n",
       "      <th>S-TEST</th>\n",
       "      <th>Percentile_ET</th>\n",
       "      <th>Percent_MBA</th>\n",
       "      <th>S-TEST_SCORE</th>\n",
       "      <th>Specialization_MBA</th>\n",
       "      <th>Marks_Communication</th>\n",
       "      <th>Marks_Projectwork</th>\n",
       "      <th>Marks_BOCA</th>\n",
       "      <th>Placement</th>\n",
       "      <th>Salary</th>\n",
       "    </tr>\n",
       "  </thead>\n",
       "  <tbody>\n",
       "    <tr>\n",
       "      <th>230</th>\n",
       "      <td>383</td>\n",
       "      <td>F</td>\n",
       "      <td>1</td>\n",
       "      <td>68.96</td>\n",
       "      <td>Others</td>\n",
       "      <td>0</td>\n",
       "      <td>0</td>\n",
       "      <td>76.00</td>\n",
       "      <td>Others</td>\n",
       "      <td>Commerce</td>\n",
       "      <td>...</td>\n",
       "      <td>1</td>\n",
       "      <td>72.15</td>\n",
       "      <td>63.08</td>\n",
       "      <td>72.15</td>\n",
       "      <td>Marketing &amp; Finance</td>\n",
       "      <td>79</td>\n",
       "      <td>66</td>\n",
       "      <td>54</td>\n",
       "      <td>1</td>\n",
       "      <td>280000</td>\n",
       "    </tr>\n",
       "    <tr>\n",
       "      <th>231</th>\n",
       "      <td>384</td>\n",
       "      <td>M</td>\n",
       "      <td>0</td>\n",
       "      <td>47.68</td>\n",
       "      <td>Others</td>\n",
       "      <td>0</td>\n",
       "      <td>0</td>\n",
       "      <td>53.33</td>\n",
       "      <td>Others</td>\n",
       "      <td>Commerce</td>\n",
       "      <td>...</td>\n",
       "      <td>1</td>\n",
       "      <td>66.00</td>\n",
       "      <td>58.30</td>\n",
       "      <td>66.00</td>\n",
       "      <td>Marketing &amp; HR</td>\n",
       "      <td>50</td>\n",
       "      <td>59</td>\n",
       "      <td>50</td>\n",
       "      <td>1</td>\n",
       "      <td>260000</td>\n",
       "    </tr>\n",
       "    <tr>\n",
       "      <th>232</th>\n",
       "      <td>386</td>\n",
       "      <td>M</td>\n",
       "      <td>0</td>\n",
       "      <td>70.00</td>\n",
       "      <td>CBSE</td>\n",
       "      <td>1</td>\n",
       "      <td>0</td>\n",
       "      <td>75.00</td>\n",
       "      <td>CBSE</td>\n",
       "      <td>Commerce</td>\n",
       "      <td>...</td>\n",
       "      <td>1</td>\n",
       "      <td>77.00</td>\n",
       "      <td>51.29</td>\n",
       "      <td>77.00</td>\n",
       "      <td>Marketing &amp; Finance</td>\n",
       "      <td>60</td>\n",
       "      <td>56</td>\n",
       "      <td>52</td>\n",
       "      <td>0</td>\n",
       "      <td>0</td>\n",
       "    </tr>\n",
       "    <tr>\n",
       "      <th>233</th>\n",
       "      <td>388</td>\n",
       "      <td>M</td>\n",
       "      <td>0</td>\n",
       "      <td>62.00</td>\n",
       "      <td>Others</td>\n",
       "      <td>0</td>\n",
       "      <td>0</td>\n",
       "      <td>63.00</td>\n",
       "      <td>Others</td>\n",
       "      <td>Commerce</td>\n",
       "      <td>...</td>\n",
       "      <td>1</td>\n",
       "      <td>74.40</td>\n",
       "      <td>53.49</td>\n",
       "      <td>74.40</td>\n",
       "      <td>Marketing &amp; HR</td>\n",
       "      <td>60</td>\n",
       "      <td>67</td>\n",
       "      <td>61</td>\n",
       "      <td>1</td>\n",
       "      <td>300000</td>\n",
       "    </tr>\n",
       "    <tr>\n",
       "      <th>234</th>\n",
       "      <td>391</td>\n",
       "      <td>M</td>\n",
       "      <td>0</td>\n",
       "      <td>65.92</td>\n",
       "      <td>Others</td>\n",
       "      <td>0</td>\n",
       "      <td>0</td>\n",
       "      <td>52.50</td>\n",
       "      <td>Others</td>\n",
       "      <td>Science</td>\n",
       "      <td>...</td>\n",
       "      <td>1</td>\n",
       "      <td>89.95</td>\n",
       "      <td>67.54</td>\n",
       "      <td>89.95</td>\n",
       "      <td>Marketing &amp; HR</td>\n",
       "      <td>81</td>\n",
       "      <td>71</td>\n",
       "      <td>62</td>\n",
       "      <td>1</td>\n",
       "      <td>320000</td>\n",
       "    </tr>\n",
       "  </tbody>\n",
       "</table>\n",
       "<p>5 rows × 25 columns</p>\n",
       "</div>"
      ],
      "text/plain": [
       "      ID Gender  Gender-B  Percent_SSC Board_SSC  Board_CBSE  Board_ICSE  \\\n",
       "230  383      F         1        68.96    Others           0           0   \n",
       "231  384      M         0        47.68    Others           0           0   \n",
       "232  386      M         0        70.00      CBSE           1           0   \n",
       "233  388      M         0        62.00    Others           0           0   \n",
       "234  391      M         0        65.92    Others           0           0   \n",
       "\n",
       "     Percent_HSC Board_HSC Stream_HSC  ...  S-TEST Percentile_ET  Percent_MBA  \\\n",
       "230        76.00    Others   Commerce  ...       1         72.15        63.08   \n",
       "231        53.33    Others   Commerce  ...       1         66.00        58.30   \n",
       "232        75.00      CBSE   Commerce  ...       1         77.00        51.29   \n",
       "233        63.00    Others   Commerce  ...       1         74.40        53.49   \n",
       "234        52.50    Others    Science  ...       1         89.95        67.54   \n",
       "\n",
       "     S-TEST_SCORE   Specialization_MBA  Marks_Communication  \\\n",
       "230         72.15  Marketing & Finance                   79   \n",
       "231         66.00       Marketing & HR                   50   \n",
       "232         77.00  Marketing & Finance                   60   \n",
       "233         74.40       Marketing & HR                   60   \n",
       "234         89.95       Marketing & HR                   81   \n",
       "\n",
       "     Marks_Projectwork  Marks_BOCA  Placement  Salary  \n",
       "230                 66          54          1  280000  \n",
       "231                 59          50          1  260000  \n",
       "232                 56          52          0       0  \n",
       "233                 67          61          1  300000  \n",
       "234                 71          62          1  320000  \n",
       "\n",
       "[5 rows x 25 columns]"
      ]
     },
     "execution_count": 328,
     "metadata": {},
     "output_type": "execute_result"
    }
   ],
   "source": [
    "# A quick glimpse at last few rows\n",
    "students.tail()"
   ]
  },
  {
   "cell_type": "code",
   "execution_count": 329,
   "metadata": {},
   "outputs": [
    {
     "name": "stdout",
     "output_type": "stream",
     "text": [
      "There are 235 of rows and 25 of columns in students dataset.\n"
     ]
    }
   ],
   "source": [
    "# how many rows and columns in our data\n",
    "rows = students.shape[0]\n",
    "columns = students.shape[1]\n",
    "print(f\"There are {rows} of rows and {columns} of columns in students dataset.\")\n"
   ]
  },
  {
   "cell_type": "code",
   "execution_count": 330,
   "metadata": {},
   "outputs": [
    {
     "name": "stdout",
     "output_type": "stream",
     "text": [
      "<class 'pandas.core.frame.DataFrame'>\n",
      "RangeIndex: 235 entries, 0 to 234\n",
      "Data columns (total 25 columns):\n",
      "ID                     235 non-null int64\n",
      "Gender                 235 non-null object\n",
      "Gender-B               235 non-null int64\n",
      "Percent_SSC            235 non-null float64\n",
      "Board_SSC              235 non-null object\n",
      "Board_CBSE             235 non-null int64\n",
      "Board_ICSE             235 non-null int64\n",
      "Percent_HSC            235 non-null float64\n",
      "Board_HSC              235 non-null object\n",
      "Stream_HSC             235 non-null object\n",
      "Percent_Degree         235 non-null float64\n",
      "Course_Degree          235 non-null object\n",
      "Degree_Engg            235 non-null int64\n",
      "Experience_Yrs         235 non-null int64\n",
      "Entrance_Test          191 non-null object\n",
      "S-TEST                 235 non-null int64\n",
      "Percentile_ET          235 non-null float64\n",
      "Percent_MBA            235 non-null float64\n",
      "S-TEST_SCORE           235 non-null float64\n",
      "Specialization_MBA     235 non-null object\n",
      "Marks_Communication    235 non-null int64\n",
      "Marks_Projectwork      235 non-null int64\n",
      "Marks_BOCA             235 non-null int64\n",
      "Placement              235 non-null int64\n",
      "Salary                 235 non-null int64\n",
      "dtypes: float64(6), int64(12), object(7)\n",
      "memory usage: 46.0+ KB\n"
     ]
    }
   ],
   "source": [
    "# glimpse of column names and their data types\n",
    "students.info()"
   ]
  },
  {
   "cell_type": "code",
   "execution_count": 331,
   "metadata": {},
   "outputs": [
    {
     "data": {
      "text/plain": [
       "array(['CAT', 'K-MAT', 'MAT', nan, 'XAT', 'PGCET', 'GCET', 'G-MAT'],\n",
       "      dtype=object)"
      ]
     },
     "execution_count": 331,
     "metadata": {},
     "output_type": "execute_result"
    }
   ],
   "source": [
    "# What are various entrance exams\n",
    "students['Entrance_Test'].unique()"
   ]
  },
  {
   "cell_type": "markdown",
   "metadata": {},
   "source": [
    "There are some NaNs in Entrance_Test column. Let us find out is there are nulls other columns as well?"
   ]
  },
  {
   "cell_type": "code",
   "execution_count": 339,
   "metadata": {},
   "outputs": [
    {
     "data": {
      "text/plain": [
       "ID                     False\n",
       "Gender                 False\n",
       "Gender-B               False\n",
       "Percent_SSC            False\n",
       "Board_SSC              False\n",
       "Board_CBSE             False\n",
       "Board_ICSE             False\n",
       "Percent_HSC            False\n",
       "Board_HSC              False\n",
       "Stream_HSC             False\n",
       "Percent_Degree         False\n",
       "Course_Degree          False\n",
       "Degree_Engg            False\n",
       "Experience_Yrs         False\n",
       "Entrance_Test           True\n",
       "S-TEST                 False\n",
       "Percentile_ET          False\n",
       "Percent_MBA            False\n",
       "S-TEST_SCORE           False\n",
       "Specialization_MBA     False\n",
       "Marks_Communication    False\n",
       "Marks_Projectwork      False\n",
       "Marks_BOCA             False\n",
       "Placement              False\n",
       "Salary                 False\n",
       "dtype: bool"
      ]
     },
     "execution_count": 339,
     "metadata": {},
     "output_type": "execute_result"
    }
   ],
   "source": [
    "students.isnull().any()"
   ]
  },
  {
   "cell_type": "markdown",
   "metadata": {},
   "source": [
    "Well, only Entrance_Test column has Null values. Let us see how many nulls are there."
   ]
  },
  {
   "cell_type": "code",
   "execution_count": 333,
   "metadata": {},
   "outputs": [
    {
     "name": "stdout",
     "output_type": "stream",
     "text": [
      "There are 44 missing values in Entrance_Test out of 235 records which is about 19.0%\n"
     ]
    }
   ],
   "source": [
    "Total = students.shape[0]\n",
    "null_ET = students['Entrance_Test'].isnull().sum()\n",
    "null_per = (np.round(null_ET/Total,2)) * 100\n",
    "print(f\"There are {null_ET} missing values in Entrance_Test out of {Total} records which is about {null_per}%\")"
   ]
  },
  {
   "cell_type": "markdown",
   "metadata": {},
   "source": [
    "### 2. Exploratroy Data Analysis (Univariate)"
   ]
  },
  {
   "cell_type": "markdown",
   "metadata": {},
   "source": [
    "Let us explore each variable individually to find out more about their data distribution."
   ]
  },
  {
   "cell_type": "markdown",
   "metadata": {},
   "source": [
    "First, we would analyze categorical variables"
   ]
  },
  {
   "cell_type": "code",
   "execution_count": 334,
   "metadata": {},
   "outputs": [
    {
     "data": {
      "text/plain": [
       "['Gender',\n",
       " 'Board_SSC',\n",
       " 'Board_HSC',\n",
       " 'Stream_HSC',\n",
       " 'Course_Degree',\n",
       " 'Entrance_Test',\n",
       " 'Specialization_MBA']"
      ]
     },
     "execution_count": 334,
     "metadata": {},
     "output_type": "execute_result"
    }
   ],
   "source": [
    "# variables with char datatype (categorical columns)\n",
    "students.dtypes[students.dtypes=='object'].index.tolist()"
   ]
  },
  {
   "cell_type": "code",
   "execution_count": 335,
   "metadata": {},
   "outputs": [
    {
     "data": {
      "image/png": "[encoded data removed]",
      "text/plain": [
       "<Figure size 576x396 with 1 Axes>"
      ]
     },
     "metadata": {},
     "output_type": "display_data"
    }
   ],
   "source": [
    "# Distribution of gender variable\n",
    "gender_count = students.Gender.value_counts(normalize=True)\n",
    "labels = [\"Male\", \"Female\"]\n",
    "explode = (0, 0.1)\n",
    "plt.style.use('ggplot')\n",
    "plt.pie(gender_count.values, labels=labels, explode=explode, shadow=True, autopct='%1.1f%%')\n",
    "plt.title(\"Male & Female Ratio\")\n",
    "plt.show()"
   ]
  },
  {
   "cell_type": "markdown",
   "metadata": {},
   "source": [
    "This dataset contains roughly 71% to 29% male to female ratio."
   ]
  },
  {
   "cell_type": "code",
   "execution_count": 336,
   "metadata": {},
   "outputs": [
    {
     "data": {
      "image/png": "[encoded data removed]",
      "text/plain": [
       "<Figure size 576x396 with 1 Axes>"
      ]
     },
     "metadata": {},
     "output_type": "display_data"
    }
   ],
   "source": [
    "board_ssc = students['Board_SSC'].value_counts(normalize=True)\n",
    "plt.style.use('fivethirtyeight')  # use plt.style.available to get a list of available styles\n",
    "plt.bar(board_ssc.index, board_ssc.values)\n",
    "plt.title(\"SSC Board Distribution\")\n",
    "plt.ylabel(\"Percentage\")\n",
    "plt.show()"
   ]
  },
  {
   "cell_type": "markdown",
   "metadata": {},
   "source": [
    "As we can see from the data, more than 50% of the candidates completed their SSC from State Boards and rest are from CBSE/ICSE Board. The same holds true for HSC as well."
   ]
  },
  {
   "cell_type": "code",
   "execution_count": 337,
   "metadata": {},
   "outputs": [
    {
     "data": {
      "image/png": "[encoded data removed]",
      "text/plain": [
       "<Figure size 576x396 with 1 Axes>"
      ]
     },
     "metadata": {},
     "output_type": "display_data"
    }
   ],
   "source": [
    "plt.style.use('tableau-colorblind10')\n",
    "board_hsc = students['Board_HSC'].value_counts(normalize=True)\n",
    "labels = board_hsc.index\n",
    "explode = (0, 0, 0.15)\n",
    "plt.pie(board_hsc.values, labels=labels, shadow=True, autopct='%1.1f%%', explode=explode, startangle=90)\n",
    "plt.title(\"HSC Board Distribution\")\n",
    "plt.ylabel(\"Percentage\")\n",
    "plt.show()"
   ]
  },
  {
   "cell_type": "code",
   "execution_count": 340,
   "metadata": {},
   "outputs": [
    {
     "data": {
      "image/png": "[encoded data removed]",
      "text/plain": [
       "<Figure size 576x396 with 1 Axes>"
      ]
     },
     "metadata": {},
     "output_type": "display_data"
    }
   ],
   "source": [
    "stream_hsc = students['Stream_HSC'].value_counts(normalize=True) \n",
    "plt.style.use('seaborn')\n",
    "plt.bar(stream_hsc.index, stream_hsc.values)\n",
    "plt.title(\"HSC Stream Distribution\")\n",
    "plt.ylabel(\"Percentage\")\n",
    "plt.show()"
   ]
  },
  {
   "cell_type": "markdown",
   "metadata": {},
   "source": [
    "Very few candidates are from Arts stream. This data indicates candidates from Commerce & Science are more inclined towards Management programs."
   ]
  },
  {
   "cell_type": "code",
   "execution_count": 341,
   "metadata": {},
   "outputs": [
    {
     "data": {
      "image/png": "[encoded data removed]",
      "text/plain": [
       "<Figure size 576x396 with 1 Axes>"
      ]
     },
     "metadata": {},
     "output_type": "display_data"
    }
   ],
   "source": [
    "course_degree = students['Course_Degree'].value_counts(normalize=True)\n",
    "plt.style.use('ggplot')\n",
    "plt.barh(course_degree.index, course_degree.values)\n",
    "plt.title(\"Course Degree Distribution\")\n",
    "plt.xlabel(\"Percentage\")\n",
    "plt.show()"
   ]
  },
  {
   "cell_type": "markdown",
   "metadata": {},
   "source": [
    "Candidates with degrees in Commerce & Management seek Management programs as their obvious choice for further studies. Candidates from Arts are less than 5%."
   ]
  },
  {
   "cell_type": "code",
   "execution_count": 342,
   "metadata": {},
   "outputs": [
    {
     "data": {
      "text/plain": [
       "MAT      0.672340\n",
       "NaN      0.187234\n",
       "CAT      0.059574\n",
       "K-MAT    0.059574\n",
       "PGCET    0.008511\n",
       "XAT      0.004255\n",
       "GCET     0.004255\n",
       "G-MAT    0.004255\n",
       "Name: Entrance_Test, dtype: float64"
      ]
     },
     "execution_count": 342,
     "metadata": {},
     "output_type": "execute_result"
    }
   ],
   "source": [
    "students['Entrance_Test'].value_counts(normalize=True, dropna=False) # entrance_test has NA. see above"
   ]
  },
  {
   "cell_type": "markdown",
   "metadata": {},
   "source": [
    "Since NAs consists of approx 18% of overall, let me fill them with a new category called 'Not Available'."
   ]
  },
  {
   "cell_type": "code",
   "execution_count": 343,
   "metadata": {},
   "outputs": [
    {
     "data": {
      "image/png": "[encoded data removed]",
      "text/plain": [
       "<Figure size 576x396 with 1 Axes>"
      ]
     },
     "metadata": {},
     "output_type": "display_data"
    }
   ],
   "source": [
    "students['Entrance_Test'].fillna('Not Available', inplace=True)\n",
    "entrance_test = students['Entrance_Test'].value_counts(normalize=True)\n",
    "plt.style.use('fivethirtyeight')\n",
    "plt.bar(entrance_test.index, entrance_test.values)\n",
    "plt.title(\"What entrance test score candidates come with?\")\n",
    "plt.show()"
   ]
  },
  {
   "cell_type": "markdown",
   "metadata": {},
   "source": [
    "As we can see, about 18% candidates do not have any entrance test information. Are they from Management Quota?"
   ]
  },
  {
   "cell_type": "code",
   "execution_count": 344,
   "metadata": {},
   "outputs": [
    {
     "data": {
      "image/png": "[encoded data removed]",
      "text/plain": [
       "<Figure size 576x396 with 1 Axes>"
      ]
     },
     "metadata": {},
     "output_type": "display_data"
    }
   ],
   "source": [
    "spec_mba = students['Specialization_MBA'].value_counts()\n",
    "plt.style.use('fivethirtyeight')\n",
    "labels=spec_mba.index\n",
    "explode=(0,0,0.3)\n",
    "plt.pie(spec_mba.values, labels=labels, explode=explode, shadow=True, autopct='%1.1f%%')\n",
    "plt.title(\"MBA Specialization\")\n",
    "plt.show()"
   ]
  },
  {
   "cell_type": "markdown",
   "metadata": {},
   "source": [
    "Seems very few candidates are inclined towards Marketing & International Business.\n",
    "\n",
    "This completes our univariate analysis for categorical columns.\n",
    "Let us move on to numerical variables for analysis."
   ]
  },
  {
   "cell_type": "code",
   "execution_count": 345,
   "metadata": {},
   "outputs": [
    {
     "data": {
      "text/plain": [
       "['ID',\n",
       " 'Gender-B',\n",
       " 'Percent_SSC',\n",
       " 'Board_CBSE',\n",
       " 'Board_ICSE',\n",
       " 'Percent_HSC',\n",
       " 'Percent_Degree',\n",
       " 'Degree_Engg',\n",
       " 'Experience_Yrs',\n",
       " 'S-TEST',\n",
       " 'Percentile_ET',\n",
       " 'Percent_MBA',\n",
       " 'S-TEST_SCORE',\n",
       " 'Marks_Communication',\n",
       " 'Marks_Projectwork',\n",
       " 'Marks_BOCA',\n",
       " 'Placement',\n",
       " 'Salary']"
      ]
     },
     "execution_count": 345,
     "metadata": {},
     "output_type": "execute_result"
    }
   ],
   "source": [
    "# variables with integer or float datatype (numerical columns)\n",
    "students.dtypes[(students.dtypes=='int64')|(students.dtypes=='float64')].index.tolist()"
   ]
  },
  {
   "cell_type": "markdown",
   "metadata": {},
   "source": [
    "Here, Gender-B is redundant and it just has same labels encoded with binary. We have already analyzed it in categorical variables. Similarly, "
   ]
  },
  {
   "cell_type": "code",
   "execution_count": 346,
   "metadata": {},
   "outputs": [
    {
     "data": {
      "text/html": [
       "<div>\n",
       "<style scoped>\n",
       "    .dataframe tbody tr th:only-of-type {\n",
       "        vertical-align: middle;\n",
       "    }\n",
       "\n",
       "    .dataframe tbody tr th {\n",
       "        vertical-align: top;\n",
       "    }\n",
       "\n",
       "    .dataframe thead th {\n",
       "        text-align: right;\n",
       "    }\n",
       "</style>\n",
       "<table border=\"1\" class=\"dataframe\">\n",
       "  <thead>\n",
       "    <tr style=\"text-align: right;\">\n",
       "      <th></th>\n",
       "      <th>Percent_SSC</th>\n",
       "      <th>Board_CBSE</th>\n",
       "      <th>Board_ICSE</th>\n",
       "      <th>Percent_HSC</th>\n",
       "      <th>Percent_Degree</th>\n",
       "      <th>Degree_Engg</th>\n",
       "      <th>Experience_Yrs</th>\n",
       "      <th>S-TEST</th>\n",
       "      <th>Percentile_ET</th>\n",
       "      <th>Percent_MBA</th>\n",
       "      <th>S-TEST_SCORE</th>\n",
       "      <th>Marks_Communication</th>\n",
       "      <th>Marks_Projectwork</th>\n",
       "      <th>Marks_BOCA</th>\n",
       "      <th>Placement</th>\n",
       "      <th>Salary</th>\n",
       "    </tr>\n",
       "  </thead>\n",
       "  <tbody>\n",
       "    <tr>\n",
       "      <th>0</th>\n",
       "      <td>68.40</td>\n",
       "      <td>0</td>\n",
       "      <td>1</td>\n",
       "      <td>85.6</td>\n",
       "      <td>72.0</td>\n",
       "      <td>0</td>\n",
       "      <td>1</td>\n",
       "      <td>1</td>\n",
       "      <td>70.00</td>\n",
       "      <td>63.26</td>\n",
       "      <td>70.00</td>\n",
       "      <td>75</td>\n",
       "      <td>72</td>\n",
       "      <td>57</td>\n",
       "      <td>1</td>\n",
       "      <td>280000</td>\n",
       "    </tr>\n",
       "    <tr>\n",
       "      <th>1</th>\n",
       "      <td>59.00</td>\n",
       "      <td>1</td>\n",
       "      <td>0</td>\n",
       "      <td>62.0</td>\n",
       "      <td>50.0</td>\n",
       "      <td>0</td>\n",
       "      <td>0</td>\n",
       "      <td>1</td>\n",
       "      <td>79.00</td>\n",
       "      <td>56.51</td>\n",
       "      <td>79.00</td>\n",
       "      <td>58</td>\n",
       "      <td>61</td>\n",
       "      <td>50</td>\n",
       "      <td>1</td>\n",
       "      <td>400000</td>\n",
       "    </tr>\n",
       "    <tr>\n",
       "      <th>2</th>\n",
       "      <td>65.92</td>\n",
       "      <td>0</td>\n",
       "      <td>0</td>\n",
       "      <td>86.0</td>\n",
       "      <td>72.0</td>\n",
       "      <td>0</td>\n",
       "      <td>1</td>\n",
       "      <td>1</td>\n",
       "      <td>66.00</td>\n",
       "      <td>66.22</td>\n",
       "      <td>66.00</td>\n",
       "      <td>80</td>\n",
       "      <td>63</td>\n",
       "      <td>55</td>\n",
       "      <td>1</td>\n",
       "      <td>350000</td>\n",
       "    </tr>\n",
       "    <tr>\n",
       "      <th>3</th>\n",
       "      <td>56.00</td>\n",
       "      <td>0</td>\n",
       "      <td>1</td>\n",
       "      <td>78.0</td>\n",
       "      <td>62.4</td>\n",
       "      <td>0</td>\n",
       "      <td>0</td>\n",
       "      <td>1</td>\n",
       "      <td>50.89</td>\n",
       "      <td>62.21</td>\n",
       "      <td>50.89</td>\n",
       "      <td>57</td>\n",
       "      <td>70</td>\n",
       "      <td>60</td>\n",
       "      <td>1</td>\n",
       "      <td>278000</td>\n",
       "    </tr>\n",
       "    <tr>\n",
       "      <th>4</th>\n",
       "      <td>62.60</td>\n",
       "      <td>0</td>\n",
       "      <td>0</td>\n",
       "      <td>50.6</td>\n",
       "      <td>52.0</td>\n",
       "      <td>0</td>\n",
       "      <td>0</td>\n",
       "      <td>1</td>\n",
       "      <td>34.53</td>\n",
       "      <td>58.63</td>\n",
       "      <td>34.53</td>\n",
       "      <td>62</td>\n",
       "      <td>57</td>\n",
       "      <td>56</td>\n",
       "      <td>1</td>\n",
       "      <td>162000</td>\n",
       "    </tr>\n",
       "  </tbody>\n",
       "</table>\n",
       "</div>"
      ],
      "text/plain": [
       "   Percent_SSC  Board_CBSE  Board_ICSE  Percent_HSC  Percent_Degree  \\\n",
       "0        68.40           0           1         85.6            72.0   \n",
       "1        59.00           1           0         62.0            50.0   \n",
       "2        65.92           0           0         86.0            72.0   \n",
       "3        56.00           0           1         78.0            62.4   \n",
       "4        62.60           0           0         50.6            52.0   \n",
       "\n",
       "   Degree_Engg  Experience_Yrs  S-TEST  Percentile_ET  Percent_MBA  \\\n",
       "0            0               1       1          70.00        63.26   \n",
       "1            0               0       1          79.00        56.51   \n",
       "2            0               1       1          66.00        66.22   \n",
       "3            0               0       1          50.89        62.21   \n",
       "4            0               0       1          34.53        58.63   \n",
       "\n",
       "   S-TEST_SCORE  Marks_Communication  Marks_Projectwork  Marks_BOCA  \\\n",
       "0         70.00                   75                 72          57   \n",
       "1         79.00                   58                 61          50   \n",
       "2         66.00                   80                 63          55   \n",
       "3         50.89                   57                 70          60   \n",
       "4         34.53                   62                 57          56   \n",
       "\n",
       "   Placement  Salary  \n",
       "0          1  280000  \n",
       "1          1  400000  \n",
       "2          1  350000  \n",
       "3          1  278000  \n",
       "4          1  162000  "
      ]
     },
     "execution_count": 346,
     "metadata": {},
     "output_type": "execute_result"
    }
   ],
   "source": [
    "# A quick look at numerical cols except ID, Gender-B\n",
    "col_list = students.dtypes[(students.dtypes=='int64')|(students.dtypes=='float64')].index.tolist()[2:]\n",
    "students[col_list].head()"
   ]
  },
  {
   "cell_type": "markdown",
   "metadata": {},
   "source": [
    "A quick look reveals that variables like Board_CBSE, Board_ICSE, Degree_Engg, S-Test, etc may be encoded versions of other categorical columns. Let us confirm before dropping them from further analysis."
   ]
  },
  {
   "cell_type": "code",
   "execution_count": 347,
   "metadata": {},
   "outputs": [
    {
     "name": "stdout",
     "output_type": "stream",
     "text": [
      "Board_CBSE, Board_ICSE are one-hot encoded versions of Board_SSC\n"
     ]
    }
   ],
   "source": [
    "cbse = students.loc[students['Board_SSC']=='CBSE','Board_SSC'].all()\n",
    "icse = students.loc[students['Board_SSC']=='ICSE','Board_SSC'].all()\n",
    "others = students.loc[students['Board_SSC']=='Others','Board_SSC'].all()\n",
    "if ((cbse == 'CBSE') & (icse == 'ICSE') & (others == 'Others') ):\n",
    "    print(\"Board_CBSE, Board_ICSE are one-hot encoded versions of Board_SSC\")"
   ]
  },
  {
   "cell_type": "markdown",
   "metadata": {},
   "source": [
    "Similar analysis could be done to confirm that Degree_Engg is encoded version of 'Engineering' label of Course_Degree variable, S-Test is encoded version of Entrance_Test with 1 if any entrance test entry and 0 if not. Therefore, we can drop these columns from our further analysis. Moreover, Percentile_ET & S-Test_SCORE are exactly same. So we will retain only one of them."
   ]
  },
  {
   "cell_type": "code",
   "execution_count": 352,
   "metadata": {},
   "outputs": [
    {
     "data": {
      "text/plain": [
       "Index(['Percent_SSC', 'Percent_HSC', 'Percent_Degree', 'Experience_Yrs',\n",
       "       'Percentile_ET', 'Percent_MBA', 'Marks_Communication',\n",
       "       'Marks_Projectwork', 'Marks_BOCA', 'Placement', 'Salary'],\n",
       "      dtype='object')"
      ]
     },
     "execution_count": 352,
     "metadata": {},
     "output_type": "execute_result"
    }
   ],
   "source": [
    "students.dtypes[(students.dtypes=='int64')|(students.dtypes=='float64')].index[[2,5,6,8,10,11,13,14,15,16,17]]"
   ]
  },
  {
   "cell_type": "code",
   "execution_count": 348,
   "metadata": {},
   "outputs": [
    {
     "data": {
      "text/html": [
       "<div>\n",
       "<style scoped>\n",
       "    .dataframe tbody tr th:only-of-type {\n",
       "        vertical-align: middle;\n",
       "    }\n",
       "\n",
       "    .dataframe tbody tr th {\n",
       "        vertical-align: top;\n",
       "    }\n",
       "\n",
       "    .dataframe thead th {\n",
       "        text-align: right;\n",
       "    }\n",
       "</style>\n",
       "<table border=\"1\" class=\"dataframe\">\n",
       "  <thead>\n",
       "    <tr style=\"text-align: right;\">\n",
       "      <th></th>\n",
       "      <th>Percent_SSC</th>\n",
       "    </tr>\n",
       "  </thead>\n",
       "  <tbody>\n",
       "    <tr>\n",
       "      <th>count</th>\n",
       "      <td>235.000000</td>\n",
       "    </tr>\n",
       "    <tr>\n",
       "      <th>mean</th>\n",
       "      <td>64.477915</td>\n",
       "    </tr>\n",
       "    <tr>\n",
       "      <th>std</th>\n",
       "      <td>10.944187</td>\n",
       "    </tr>\n",
       "    <tr>\n",
       "      <th>min</th>\n",
       "      <td>37.000000</td>\n",
       "    </tr>\n",
       "    <tr>\n",
       "      <th>25%</th>\n",
       "      <td>56.450000</td>\n",
       "    </tr>\n",
       "    <tr>\n",
       "      <th>50%</th>\n",
       "      <td>64.000000</td>\n",
       "    </tr>\n",
       "    <tr>\n",
       "      <th>75%</th>\n",
       "      <td>73.880000</td>\n",
       "    </tr>\n",
       "    <tr>\n",
       "      <th>max</th>\n",
       "      <td>85.800000</td>\n",
       "    </tr>\n",
       "  </tbody>\n",
       "</table>\n",
       "</div>"
      ],
      "text/plain": [
       "       Percent_SSC\n",
       "count   235.000000\n",
       "mean     64.477915\n",
       "std      10.944187\n",
       "min      37.000000\n",
       "25%      56.450000\n",
       "50%      64.000000\n",
       "75%      73.880000\n",
       "max      85.800000"
      ]
     },
     "execution_count": 348,
     "metadata": {},
     "output_type": "execute_result"
    }
   ],
   "source": [
    "# Percent_SSC\n",
    "students[['Percent_SSC']].describe()"
   ]
  },
  {
   "cell_type": "code",
   "execution_count": 349,
   "metadata": {},
   "outputs": [
    {
     "data": {
      "image/png": "[encoded data removed]",
      "text/plain": [
       "<Figure size 576x396 with 1 Axes>"
      ]
     },
     "metadata": {},
     "output_type": "display_data"
    }
   ],
   "source": [
    "plt.style.use('seaborn')\n",
    "plt.hist(students['Percent_SSC'], bins=20, density=True, log=False, range=(25, 100))\n",
    "plt.title(\"SSC Percent Distribution\")\n",
    "plt.ylabel(\"Probability\")\n",
    "plt.show()"
   ]
  },
  {
   "cell_type": "code",
   "execution_count": 350,
   "metadata": {},
   "outputs": [
    {
     "data": {
      "image/png": "[encoded data removed]",
      "text/plain": [
       "<Figure size 576x396 with 1 Axes>"
      ]
     },
     "metadata": {},
     "output_type": "display_data"
    }
   ],
   "source": [
    "plt.style.use('fivethirtyeight')\n",
    "plt.hist(students['Percent_HSC'], bins=20, density=True, log=False, range=(30, 100))\n",
    "plt.title(\"HSC Percent Distribution\")\n",
    "plt.ylabel(\"Probability\")\n",
    "plt.show()"
   ]
  },
  {
   "cell_type": "code",
   "execution_count": 351,
   "metadata": {},
   "outputs": [
    {
     "data": {
      "image/png": "[encoded data removed]",
      "text/plain": [
       "<Figure size 576x396 with 1 Axes>"
      ]
     },
     "metadata": {},
     "output_type": "display_data"
    }
   ],
   "source": [
    "plt.style.use('fivethirtyeight')\n",
    "plt.hist(students['Percent_Degree'], bins=25, density=True, log=False, range=(20, 100))\n",
    "plt.title(\"Degree Percent Distribution\")\n",
    "plt.ylabel(\"Probability\")\n",
    "plt.show()"
   ]
  },
  {
   "cell_type": "code",
   "execution_count": 359,
   "metadata": {},
   "outputs": [
    {
     "data": {
      "image/png": "[encoded data removed]",
      "text/plain": [
       "<Figure size 576x396 with 1 Axes>"
      ]
     },
     "metadata": {},
     "output_type": "display_data"
    }
   ],
   "source": [
    "fig, ax = plt.subplots()\n",
    "plt.boxplot(students['Percent_MBA'], notch=True, vert=True, showfliers=True)\n",
    "plt.title(\"MBA Percent Distribution\")\n",
    "plt.show()"
   ]
  },
  {
   "cell_type": "code",
   "execution_count": 361,
   "metadata": {},
   "outputs": [
    {
     "data": {
      "image/png": "[encoded data removed]",
      "text/plain": [
       "<Figure size 576x396 with 1 Axes>"
      ]
     },
     "metadata": {},
     "output_type": "display_data"
    }
   ],
   "source": [
    "plt.hist(students['Percent_MBA'], bins=30, density=True, range=(35,100))\n",
    "plt.title(\"MBA Percent Distribution\")\n",
    "plt.show()"
   ]
  },
  {
   "cell_type": "markdown",
   "metadata": {},
   "source": [
    "Everybody in our dataset scored more than 50% in their MBA exams. Could this be due to placement cut-off set by differenet hiring companies?"
   ]
  },
  {
   "cell_type": "code",
   "execution_count": 369,
   "metadata": {},
   "outputs": [
    {
     "data": {
      "image/png": "[encoded data removed]",
      "text/plain": [
       "<Figure size 576x396 with 1 Axes>"
      ]
     },
     "metadata": {},
     "output_type": "display_data"
    }
   ],
   "source": [
    "plt.hist(students['Salary'], bins=30, density=False, range=(-5, 1000000))\n",
    "plt.title(\"Salary Offered in Placements\")\n",
    "plt.show()"
   ]
  },
  {
   "cell_type": "markdown",
   "metadata": {},
   "source": [
    "There are some candidates not placed during campus placement and their Salary is zero. There are exceptional candidates with a very good package as well. Let us look at boxplot as well to see if there are any outliers."
   ]
  },
  {
   "cell_type": "code",
   "execution_count": 372,
   "metadata": {},
   "outputs": [
    {
     "data": {
      "image/png": "[encoded data removed]",
      "text/plain": [
       "<Figure size 576x396 with 1 Axes>"
      ]
     },
     "metadata": {},
     "output_type": "display_data"
    }
   ],
   "source": [
    "plt.boxplot(students['Salary'], showfliers=True)\n",
    "plt.show()"
   ]
  },
  {
   "cell_type": "code",
   "execution_count": null,
   "metadata": {},
   "outputs": [],
   "source": []
  },
  {
   "cell_type": "code",
   "execution_count": null,
   "metadata": {},
   "outputs": [],
   "source": []
  },
  {
   "cell_type": "code",
   "execution_count": null,
   "metadata": {},
   "outputs": [],
   "source": []
  },
  {
   "cell_type": "code",
   "execution_count": null,
   "metadata": {},
   "outputs": [],
   "source": []
  },
  {
   "cell_type": "code",
   "execution_count": null,
   "metadata": {},
   "outputs": [],
   "source": [
    "#students.loc[students['Course_Degree']=='Arts','Course_Degree'] = 'Others'"
   ]
  },
  {
   "cell_type": "markdown",
   "metadata": {},
   "source": [
    "Let's confirm the counts for each category for Course_Degree, now we see that Others & Science both have appox. 5%"
   ]
  },
  {
   "cell_type": "code",
   "execution_count": null,
   "metadata": {},
   "outputs": [],
   "source": [
    "#students['Course_Degree'].value_counts(normalize=True)"
   ]
  },
  {
   "cell_type": "code",
   "execution_count": null,
   "metadata": {},
   "outputs": [],
   "source": [
    "pd.crosstab(students['Course_Degree'], students['Gender']).plot.barh()\n",
    "plt.show()"
   ]
  },
  {
   "cell_type": "code",
   "execution_count": null,
   "metadata": {},
   "outputs": [],
   "source": []
  }
 ],
 "metadata": {
  "kernelspec": {
   "display_name": "Python 3",
   "language": "python",
   "name": "python3"
  },
  "language_info": {
   "codemirror_mode": {
    "name": "ipython",
    "version": 3
   },
   "file_extension": ".py",
   "mimetype": "text/x-python",
   "name": "python",
   "nbconvert_exporter": "python",
   "pygments_lexer": "ipython3",
   "version": "3.7.3"
  }
 },
 "nbformat": 4,
 "nbformat_minor": 2
}
